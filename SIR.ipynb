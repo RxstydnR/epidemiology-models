{
 "cells": [
  {
   "cell_type": "markdown",
   "metadata": {
    "collapsed": "true"
   },
   "source": [
    "## Library"
   ]
  },
  {
   "cell_type": "code",
   "execution_count": 1,
   "metadata": {},
   "outputs": [],
   "source": [
    "import numpy as np\n",
    "from scipy.integrate import odeint\n",
    "from scipy.optimize import minimize\n",
    "import matplotlib.pyplot as plt\n",
    "%matplotlib inline"
   ]
  },
  {
   "cell_type": "markdown",
   "metadata": {
    "collapsed": "true"
   },
   "source": [
    "## SIR Model (Vanilla model)"
   ]
  },
  {
   "cell_type": "markdown",
   "metadata": {},
   "source": [
    "#### **変数**\n",
    "\n",
    "- **S(Susceptible)**  \n",
    "伝染病に対する免疫がない者。感染可能者。\n",
    "- **I Infectious)**  \n",
    "感染により発病し、感染可能者(S)への伝染可能な者。感染者。\n",
    "- **R (Removed)**  \n",
    "発病から回復し、免疫を獲得したもの。あるいは発病から回復できず死亡した者。\n",
    "\n",
    "#### **数理モデル**\n",
    "\n",
    "$$\n",
    "\\begin{array}{l}\\frac{d S}{d t}=-\\beta S I \\\\ \\frac{d I}{d t}=\\beta S I-\\gamma I \\\\ \\frac{d R}{d t}=\\gamma I\\end{array}\n",
    "$$\n",
    "\n",
    "$$\n",
    "\\begin{array}{ll}\n",
    "    S: \\text { 感染可能者 (Susceptible) } \\\\ \n",
    "    I: \\text { 感染者 (Infectious) } \\\\ \n",
    "    R: \\text { 感染後死亡者、もしくは免疫を獲得した者 (Removed, Recovered) } \\\\ \n",
    "    \\beta: \\text { 接触あたりの感染率 (The infectious rate) [1/day]} \\\\ \n",
    "    \\gamma: \\text { 回復率、除去率、隔離率 (The Recovery rate) [1/day]} \\\\\n",
    "\\end{array}\n",
    "$$\n",
    "\n",
    "**第1式の微分方程式**\n",
    "\n",
    "左辺dS/dtは未感染者数Sの時間変化率（微分）。未感染者と感染者の接触により感染するので、接触率は両者の人数の積SIに比例する。\n",
    "\n",
    "集団内では、1人が毎日接触する人数を平均m人、それぞれの接触毎に感染が生じる1日あたりの確率をpとしたとき、感染率β=mp/N。刻々と感染が起こると未感染人口Sは減少していく。\n",
    "\n",
    "**第2式の微分方程式**\n",
    "\n",
    "総人口N=S+I+R は定数であるため、時間微分は0となる。\n",
    "\n",
    "0=dS/dt+dI/dt+dR/dt\n",
    "\n",
    "これと第1式、第3式から第2式が得られる。\n",
    "\n",
    "**第3式の微分方程式**\n",
    "\n",
    "左辺dR/dtは回復者数Rの時間変化率（微分）。感染者が一定の速度γで回復していくとすると、刻々と回復する人が増加していく。1/γは感染期間が指数宇分布に従うと仮定した場合の平均値を表す。つまり、感染から回復もしくは隔離されるまでの平均感染性期間を指す。\n",
    "\n",
    "#### **前提条件**\n",
    "\n",
    "SIRモデルの前提条件\n",
    "\n",
    "- 一度免疫を獲得した者は2度と感染することなく、免疫を失うこともない。\n",
    "- 全体人口で外部からの流入及び流出はない。なお出生者及び感染以外の原因で死亡する者もいない。"
   ]
  },
  {
   "cell_type": "code",
   "execution_count": 13,
   "metadata": {},
   "outputs": [],
   "source": [
    "# Define differential equation of SIR model\n",
    "def SIR_EQ(v, t, beta, gamma):\n",
    "    '''\n",
    "    dS/dt = -beta * S * I\n",
    "    dI/dt = beta * S * I - gamma * I\n",
    "    dR/dt = gamma * I\n",
    "\n",
    "    [v[0], v[1], v[2]] = [S, I, R]\n",
    "\n",
    "    dv[0]/dt = -beta * v[0] * v[1]\n",
    "    dv[1]/dt = beta * v[0] * v[1] - gamma * v[1]\n",
    "    dv[2]/dt = gamma * v[1]\n",
    "    '''\n",
    "    dS_dt = -beta*v[0]*v[1]\n",
    "    dI_dt = beta * v[0] * v[1] - gamma * v[1]\n",
    "    dR_dt = gamma * v[1]\n",
    "\n",
    "    # return [-beta*v[0]*v[1], beta * v[0] * v[1] - gamma * v[1], gamma * v[1]]\n",
    "    return [dS_dt, dI_dt, dR_dt]    "
   ]
  },
  {
   "cell_type": "code",
   "execution_count": 15,
   "metadata": {},
   "outputs": [
    {
     "name": "stdout",
     "output_type": "stream",
     "text": [
      "基本再生産数 = 2.0\n"
     ]
    }
   ],
   "source": [
    "# 人口1,000名の集団に対し、初期に感染者が1名がいたと仮定する。\n",
    "# Total population, N.\n",
    "N = 1000\n",
    "# Initial number of infected and recovered individuals, I0 and R0.\n",
    "I_0 = 1\n",
    "R_0 = 0\n",
    "# Everyone else, S0, is susceptible to infection initially.\n",
    "S_0 = N - I_0 - R_0\n",
    "\n",
    "# Contact rate, beta, and mean recovery rate, gamma, (in 1/days).\n",
    "m=10 # 1日1人あたりのに接触平均数\n",
    "p=0.02 # 接触毎に感染が生じる1日あたりの確率\n",
    "beta_const = (m*p)/N\n",
    "gamma_const = 1/10 # 感染者の回復日数を10日とすると\n",
    "\n",
    "# A grid of time points (in days)\n",
    "times = np.linspace(0, 365, 365)\n",
    "\"\"\"消しても良い\n",
    "# parameters\n",
    "# t_max = 160 # days\n",
    "# dt = 0.01\n",
    "# times =np.arange(0,t_max, dt)\n",
    "\"\"\"\n",
    "\n",
    "# R0\n",
    "R0 = N * beta_const *(1/gamma_const)\n",
    "print(f\"基本再生産数 = {R0}\")"
   ]
  },
  {
   "cell_type": "code",
   "execution_count": 16,
   "metadata": {},
   "outputs": [
    {
     "data": {
      "image/png": "[encoded data removed]",
      "text/plain": [
       "<Figure size 432x288 with 1 Axes>"
      ]
     },
     "metadata": {
      "needs_background": "light"
     },
     "output_type": "display_data"
    },
    {
     "name": "stdout",
     "output_type": "stream",
     "text": [
      "Final S=202.84590572748849\n",
      "Final I=8.990242612832062e-06\n",
      "Final R=797.1540852822698\n"
     ]
    }
   ],
   "source": [
    "# numerical integration\n",
    "ini_state = [S_0,I_0,R_0] \n",
    "\n",
    "# Numerical Solution using scipy.integrate\n",
    "# Solver SIR model\n",
    "result = odeint(SIR_EQ, ini_state, times, args=(beta_const, gamma_const)) # -> (16000, 3) 全時間ごとの解を取得\n",
    "\n",
    "# plot\n",
    "plt.figure()\n",
    "plt.plot(times,result)\n",
    "plt.legend(['Susceptible','Infectious', 'Removed'])\n",
    "plt.show()\n",
    "\n",
    "print(f\"Final S={result[-1][0]}\")\n",
    "print(f\"Final I={result[-1][1]}\")\n",
    "print(f\"Final R={result[-1][2]}\")"
   ]
  },
  {
   "cell_type": "markdown",
   "metadata": {},
   "source": [
    "#### **考察**\n",
    "\n",
    "このグラフから言えることは、\n",
    "- 1,000名の集団に1名の感染者(Infectious(0))が発生した場合、最終的に800名程度(人口の80%)が感染を経験する。\n",
    "- 感染者人数のピークは総人口の20%弱。\n",
    "- 感染者(Infectious)のピークは約70日辺りで発生し、その後は感染が収束する。\n",
    "- 終息までには160日強ほど要する。\n",
    "\n",
    "\n",
    "このように感染病に関するパラメータを利用し、感染病が人口集団に及ぼす影響を評価することが可能である。"
   ]
  },
  {
   "cell_type": "markdown",
   "metadata": {
    "collapsed": "true"
   },
   "source": [
    "## SEIR Model"
   ]
  },
  {
   "cell_type": "markdown",
   "metadata": {},
   "source": [
    "実際の感染拡大では、発症前から二次感染者を発生させていることが指摘されている。例えば、COVID-19では発症間隔が平均4.8日と推定されている（新型コロナウイルスの潜伏期間の推定値は平均5.6日）。発症間隔と感染から発症までの期間を表す潜伏期間（incubation period）の関係を考えることで実証可能である。"
   ]
  },
  {
   "cell_type": "markdown",
   "metadata": {},
   "source": [
    "#### **変数**\n",
    "\n",
    "- **E(Exposed)**  \n",
    "\n",
    "多くの重要な感染症では、個体は感染しているが、まだ発症していない潜伏期間が存在する。感染してから感染性を持つまでの感染性待ち時間をE（exposed）とする。\n",
    "\n",
    "\n",
    "#### **数理モデル**\n",
    "\n",
    "$$\n",
    "\\begin{array}{l}\n",
    "    \\frac{d S}{d t}=-\\beta S I \\\\ \n",
    "    \\frac{d E}{d t}=\\beta S I -\\varepsilon E \\\\ \n",
    "    \\frac{d I}{d t}=\\varepsilon E-\\gamma I \\\\ \n",
    "    \\frac{d R}{d t}=\\gamma I\n",
    "\\end{array}\n",
    "$$\n",
    "\n",
    "\n",
    "$$\n",
    "\\begin{array}{ll}\n",
    "    S: \\text { 感染可能者 (Susceptible) } \\\\ \n",
    "    E: \\text { 潜伏期間中の感染者 (Exposed) } \\\\ \n",
    "    I: \\text { 感染者 (Infectious) } \\\\ \n",
    "    R: \\text { 感染後死亡者、もしくは免疫を獲得した者 (Removed, Recovered) } \\\\ \n",
    "    \\beta: \\text { 接触あたりの感染率 (The infectious rate) [1/day]} \\\\ \n",
    "    \\varepsilon: \\text { 発症率（潜伏期間はこの逆数） [1/day]} \\\\\n",
    "    \\gamma: \\text { 回復率、除去率、隔離率 (The Recovery rate) [1/day]} \\\\\n",
    "\\end{array}\n",
    "$$\n",
    "\n",
    "**$E$に関する微分方程式**\n",
    "\n",
    "感染者の内、発症者を除いた未発症者の変化率。"
   ]
  },
  {
   "cell_type": "code",
   "execution_count": 8,
   "metadata": {},
   "outputs": [],
   "source": [
    "# Define differential equation of SEIR model\n",
    "def SEIR_EQ(v, t, beta, epsilon, gamma):\n",
    "    # [v[0], v[1], v[2], v[3]] = [S, E, I, R]\n",
    "    \n",
    "    dS_dt = -beta * v[0] * v[2]\n",
    "    dE_dt = beta * v[0] * v[2] - epsilon * v[1]\n",
    "    dI_dt = epsilon * v[1] - gamma * v[2]\n",
    "    dR_dt = gamma * v[2]\n",
    "\n",
    "    # return [-beta*v[0]*v[1], beta * v[0] * v[1] - gamma * v[1], gamma * v[1]]\n",
    "    return [dS_dt, dE_dt, dI_dt, dR_dt]    "
   ]
  },
  {
   "cell_type": "code",
   "execution_count": 11,
   "metadata": {},
   "outputs": [],
   "source": [
    "# Total population, N.\n",
    "N = 1000\n",
    "# Initial number of infected and recovered individuals.\n",
    "I_0 = 1\n",
    "R_0 = 0\n",
    "E_0 = 0\n",
    "# Everyone else, S0, is susceptible to infection initially.\n",
    "S_0 = N - E_0 - I_0 - R_0\n",
    "\n",
    "# Contact rate, beta, and mean recovery rate, gamma, (in 1/days).\n",
    "m = 10 # 1日1人あたりのに接触平均数\n",
    "p = 0.02 # 接触毎に感染が生じる1日あたりの確率\n",
    "beta_const = (m*p)/N\n",
    "gamma_const = 1/10\n",
    "epsilon_const = 1/5 # 潜伏期間を5日と仮定\n",
    "\n",
    "# A grid of time points (in days)\n",
    "times = np.linspace(0, 365, 365)"
   ]
  },
  {
   "cell_type": "code",
   "execution_count": 12,
   "metadata": {},
   "outputs": [
    {
     "data": {
      "image/png": "[encoded data removed]",
      "text/plain": [
       "<Figure size 432x288 with 1 Axes>"
      ]
     },
     "metadata": {
      "needs_background": "light"
     },
     "output_type": "display_data"
    },
    {
     "name": "stdout",
     "output_type": "stream",
     "text": [
      "Final S=202.84877354031786\n",
      "Final E=0.0008816806926817367\n",
      "Final I=0.0033255798618343265\n",
      "Final R=797.1470191991294\n"
     ]
    }
   ],
   "source": [
    "# numerical integration\n",
    "ini_state = [S_0,E_0,I_0,R_0] \n",
    "\n",
    "# Numerical Solution using scipy.integrate\n",
    "# Solver SIR model\n",
    "result = odeint(SEIR_EQ, ini_state, times, args=(beta_const, epsilon_const, gamma_const))\n",
    "\n",
    "# plot\n",
    "plt.figure()\n",
    "plt.plot(times,result)\n",
    "plt.legend(['Susceptible','Exposed','Infectious', 'Removed'])\n",
    "plt.show()\n",
    "\n",
    "print(f\"Final S={result[-1][0]}\")\n",
    "print(f\"Final E={result[-1][1]}\")\n",
    "print(f\"Final I={result[-1][2]}\")\n",
    "print(f\"Final R={result[-1][3]}\")"
   ]
  },
  {
   "cell_type": "markdown",
   "metadata": {},
   "source": [
    "#### **考察**\n",
    "\n",
    "このグラフから言えることは、\n",
    "\n",
    "- 感染者人数のピークは総人口の10%程度である。\n",
    "- 感染者(Infectious)のピークは約110日辺りで発生し、その後は感染が収束する。\n",
    "- 終息までには220日ほど要する。\n",
    "- E:潜伏期間を考慮すると（潜伏期間が0日以上であると）、ピーク時の感染者人数が小さくなり、収束が長くなることが分かる。"
   ]
  },
  {
   "cell_type": "markdown",
   "metadata": {
    "collapsed": "true"
   },
   "source": [
    "## SIS Model"
   ]
  },
  {
   "cell_type": "markdown",
   "metadata": {},
   "source": [
    "風邪やインフルエンザなどの感染症の中には、長期的な免疫が得られないものがある。このような感染症は、感染から回復しても免疫力が得られず、再び感染可能者となる。"
   ]
  },
  {
   "cell_type": "markdown",
   "metadata": {},
   "source": [
    "#### **数理モデル**\n",
    "\n",
    "$$\n",
    "\\begin{array}{l}\n",
    "    \\frac{d S}{d t}=-\\beta S I + \\gamma I\\\\ \n",
    "    \\frac{d I}{d t}=\\beta S I -\\gamma I \\\\ \n",
    "\\end{array}\n",
    "$$\n",
    "\n",
    "\n",
    "$$\n",
    "\\begin{array}{ll}\n",
    "    S: \\text { 感染可能者 (Susceptible) } \\\\ \n",
    "    I: \\text { 感染者 (Infectious) } \\\\ \n",
    "    \\beta: \\text { 接触あたりの感染率 (The infectious rate) [1/day]} \\\\ \n",
    "    \\gamma: \\text { 回復率、除去率、隔離率 (The Recovery rate) [1/day]} \\\\\n",
    "\\end{array}\n",
    "$$"
   ]
  },
  {
   "cell_type": "code",
   "execution_count": 17,
   "metadata": {},
   "outputs": [],
   "source": [
    "# Define differential equation of SIS model\n",
    "def SIS_EQ(v, t, beta, gamma):\n",
    "    # [v[0], v[1]] = [S, I]\n",
    "    \n",
    "    dS_dt = -beta * v[0] * v[1] + gamma * v[1]\n",
    "    dI_dt = beta * v[0] * v[1] - gamma * v[1]\n",
    "    \n",
    "    return [dS_dt, dI_dt]    "
   ]
  },
  {
   "cell_type": "code",
   "execution_count": 22,
   "metadata": {},
   "outputs": [],
   "source": [
    "# Total population, N.\n",
    "N = 1000\n",
    "# Initial number of infected and recovered individuals.\n",
    "I_0 = 1\n",
    "# Everyone else, S0, is susceptible to infection initially.\n",
    "S_0 = N - I_0\n",
    "\n",
    "# Contact rate, beta, and mean recovery rate, gamma, (in 1/days).\n",
    "m = 10 # 1日1人あたりのに接触平均数\n",
    "p = 0.02 # 接触毎に感染が生じる1日あたりの確率\n",
    "beta_const = (m*p)/N\n",
    "gamma_const = 1/10\n",
    "\n",
    "# A grid of time points (in days)\n",
    "times = np.linspace(0, 365, 365)"
   ]
  },
  {
   "cell_type": "code",
   "execution_count": 23,
   "metadata": {},
   "outputs": [
    {
     "data": {
      "image/png": "[encoded data removed]",
      "text/plain": [
       "<Figure size 432x288 with 1 Axes>"
      ]
     },
     "metadata": {
      "needs_background": "light"
     },
     "output_type": "display_data"
    },
    {
     "name": "stdout",
     "output_type": "stream",
     "text": [
      "Final S=499.9999999564933\n",
      "Final I=500.0000000435068\n"
     ]
    }
   ],
   "source": [
    "# numerical integration\n",
    "ini_state = [S_0,I_0] \n",
    "\n",
    "# Numerical Solution using scipy.integrate\n",
    "# Solver SIS model\n",
    "result = odeint(SIS_EQ, ini_state, times, args=(beta_const, gamma_const))\n",
    "\n",
    "# plot\n",
    "plt.figure()\n",
    "plt.plot(times,result)\n",
    "plt.legend(['Susceptible','Infectious'])\n",
    "plt.show()\n",
    "\n",
    "print(f\"Final S={result[-1][0]}\")\n",
    "print(f\"Final I={result[-1][1]}\")"
   ]
  },
  {
   "cell_type": "markdown",
   "metadata": {},
   "source": [
    "#### **考察**\n",
    "\n",
    "このグラフから言えることは、\n",
    "- 130日以降は、人口の半分ずつが感染者と非感染者の均衡状態が続く。\n",
    "- 免疫を獲得しないため、永久に収束はしない。"
   ]
  },
  {
   "cell_type": "markdown",
   "metadata": {
    "collapsed": "true"
   },
   "source": [
    "## SIR Model + Population Movement"
   ]
  },
  {
   "cell_type": "markdown",
   "metadata": {},
   "source": [
    "Vanilla SIRモデルでは、発病から回復し免疫を獲得した者と、発病から回復できず死亡した者を同一に含めて扱っていた。さらに、出生による人口増加を考慮していなかった。そこで、死亡率$\\mu$ および出生率$\\Lambda$ によって人口の増減を特徴付け、人口動態がある母集団の流行プロセスをモデリングする。"
   ]
  },
  {
   "cell_type": "markdown",
   "metadata": {},
   "source": [
    "#### **パラメータ**\n",
    "\n",
    "- $\\mu K$: 出生数（出生率*固定値）\n",
    "- $\\delta$: 死亡率\n",
    "- $\\alpha$: 感染による死亡率増加分\n",
    "\n",
    "※ $\\mu K$について、シミュレーションは一年間を想定するため、人口の増減による出生率は変化しないと仮定し、今回は上の固定値を採用する。\n",
    "\n",
    "#### **数理モデル**\n",
    "\n",
    "$$\n",
    "\\begin{array}{l}\n",
    "    \\frac{d S}{d t}= \\mu K - \\beta S I - \\delta S \\\\ \n",
    "    \\frac{d I}{d t}= \\beta S I - (\\delta + \\alpha) I - \\gamma I \\\\ \n",
    "    \\frac{d R}{d t}= \\gamma I - \\delta R\n",
    "\\end{array}\n",
    "$$\n",
    "\n",
    "\n",
    "$$\n",
    "\\begin{array}{ll}\n",
    "    S: \\text { 感染可能者 (Susceptible) } \\\\ \n",
    "    I: \\text { 感染者 (Infectious) } \\\\ \n",
    "    R: \\text { 免疫を獲得した者 (Removed, Recovered) } \\\\ \n",
    "    \\beta: \\text { 接触あたりの感染率 (The infectious rate) [1/day]} \\\\ \n",
    "    \\varepsilon: \\text { 潜伏期間からの感染率 [1/day]} \\\\\n",
    "    \\gamma: \\text { 回復率、除去率、隔離率 (The Recovery rate) [1/day]} \\\\\n",
    "    \\mu K: \\text { 出生数（1日あたり） } \\\\\n",
    "    \\delta: \\text { 死亡率（1日あたり） } \\\\\n",
    "    \\alpha: \\text { 感染による死亡率増加分 }\\\\\n",
    "\\end{array}\n",
    "$$\n"
   ]
  },
  {
   "cell_type": "markdown",
   "metadata": {},
   "source": [
    "**第1式の微分方程式**\n",
    "\n",
    "ある出生数分だけの未感染者が一定の速度で増加し、また未感染者が一定の速度$\\delta$で死亡し未感染者が減少する。\n",
    "\n",
    "**第2式の微分方程式**\n",
    "\n",
    "感染者は死亡リスクが増加するため、未感染時の死亡率に感染による死亡率増加分を加えた速度で感染者が死亡する。\n",
    "\n",
    "**第3式の微分方程式**\n",
    "\n",
    "免疫を獲得した未感染者が一定の速度$\\delta$で死亡し減少する。"
   ]
  },
  {
   "cell_type": "code",
   "execution_count": 25,
   "metadata": {},
   "outputs": [],
   "source": [
    "# Define differential equation of SIRd model\n",
    "def SIRd_EQ(v, t, beta, gamma, muK, delta, alpha):\n",
    "    # [v[0], v[1], v[2]] = [S, I, R]\n",
    "    \n",
    "    dS_dt = muK -beta * v[0] * v[1] - delta * v[0]\n",
    "    dI_dt = beta * v[0] * v[1] - (delta+alpha) * v[1] - gamma * v[1]\n",
    "    dR_dt = gamma * v[1] - delta * v[2]\n",
    "    \n",
    "    return [dS_dt, dI_dt, dR_dt]    "
   ]
  },
  {
   "cell_type": "code",
   "execution_count": 26,
   "metadata": {},
   "outputs": [],
   "source": [
    "# Total population, N.\n",
    "N = 1000\n",
    "# Initial number of infected and recovered individuals.\n",
    "I_0 = 1\n",
    "R_0 = 0\n",
    "# Everyone else, S0, is susceptible to infection initially.\n",
    "S_0 = N - I_0 - R_0\n",
    "\n",
    "# Contact rate, beta, and mean recovery rate, gamma, (in 1/days).\n",
    "m = 10 # 1日1人あたりのに接触平均数\n",
    "p = 0.02 # 接触毎に感染が生じる1日あたりの確率\n",
    "beta_const = (m*p)/N\n",
    "gamma_const = 1/10\n",
    "muK_const = 0.00002 * N\n",
    "delta_const = 0.00003\n",
    "alpha_const = 0.000015 # 感染すると、死亡率が1.5倍になる\n",
    "\n",
    "# A grid of time points (in days)\n",
    "times = np.linspace(0, 365, 365)"
   ]
  },
  {
   "cell_type": "code",
   "execution_count": 27,
   "metadata": {},
   "outputs": [
    {
     "data": {
      "image/png": "[encoded data removed]",
      "text/plain": [
       "<Figure size 432x288 with 1 Axes>"
      ]
     },
     "metadata": {
      "needs_background": "light"
     },
     "output_type": "display_data"
    },
    {
     "name": "stdout",
     "output_type": "stream",
     "text": [
      "Final S=206.9401979043919\n",
      "Final I=1.0048296045388334e-05\n",
      "Final R=789.311306359909\n"
     ]
    }
   ],
   "source": [
    "# numerical integration\n",
    "ini_state = [S_0,I_0,R_0] \n",
    "\n",
    "# Numerical Solution using scipy.integrate\n",
    "# Solver SIR model\n",
    "result = odeint(SIRd_EQ, ini_state, times, \n",
    "                args=(beta_const, gamma_const, muK_const, delta_const, alpha_const))\n",
    "\n",
    "# plot\n",
    "plt.figure()\n",
    "plt.plot(times,result)\n",
    "plt.legend(['Susceptible','Infectious', 'Removed'])\n",
    "plt.grid()\n",
    "plt.show()\n",
    "\n",
    "print(f\"Final S={result[-1][0]}\")\n",
    "print(f\"Final I={result[-1][1]}\")\n",
    "print(f\"Final R={result[-1][2]}\")"
   ]
  },
  {
   "cell_type": "markdown",
   "metadata": {},
   "source": [
    "#### **考察**\n",
    "\n",
    "このグラフから言えることは、\n",
    "\n",
    "- 感染者人数のピークは総人口の18%程度である。\n",
    "- 人口動態を考慮すると、ピーク時の感染者人数が若干数小さくなり、収束にかかる日数が若干長くなる。収束した際の未感染者の数が増える。"
   ]
  },
  {
   "cell_type": "markdown",
   "metadata": {
    "collapsed": "true"
   },
   "source": [
    "## SIRS Model (SIR Model + Immune Loss)"
   ]
  },
  {
   "cell_type": "markdown",
   "metadata": {},
   "source": [
    "Vanilla SIR Modelは、死亡や免疫獲得などでー旦系から取り除かれると二度と感染しない場合を想定している。しかし、伝染病によっては、免疫を失うなど、再び感染可能者になる場合がある。"
   ]
  },
  {
   "cell_type": "markdown",
   "metadata": {},
   "source": [
    "#### **パラメータ**\n",
    "\n",
    "- $\\alpha$: 復元率（免疫を失う割合）\n",
    "\n",
    "\n",
    "#### **数理モデル**\n",
    "\n",
    "$$\n",
    "\\begin{array}{l}\n",
    "    \\frac{d S}{d t}= \\alpha R - \\beta S I  \\\\ \n",
    "    \\frac{d I}{d t}= \\beta S I - \\gamma I \\\\ \n",
    "    \\frac{d R}{d t}= \\gamma I - \\alpha R\n",
    "\\end{array}\n",
    "$$\n",
    "\n",
    "\n",
    "$$\n",
    "\\begin{array}{ll}\n",
    "    S: \\text { 感染可能者 (Susceptible) } \\\\ \n",
    "    I: \\text { 感染者 (Infectious) } \\\\ \n",
    "    R: \\text { 感染後死亡者、もしくは免疫を獲得した者 (Removed, Recovered) } \\\\ \n",
    "    \\beta: \\text { 接触あたりの感染率 (The infectious rate) [1/day]} \\\\ \n",
    "    \\gamma: \\text { 回復率、除去率、隔離率 (The Recovery rate) [1/day]} \\\\\n",
    "    \\alpha: \\text { 復元率（免疫を失う割合） } \\\\\n",
    "\\end{array}\n",
    "$$\n"
   ]
  },
  {
   "cell_type": "markdown",
   "metadata": {},
   "source": [
    "**第1式の微分方程式**\n",
    "\n",
    "免疫獲得者の内、免疫を失うことで感染可能者に戻る人が一定の速度$\\alpha$で増加する。\n",
    "\n",
    "**第3式の微分方程式**\n",
    "\n",
    "免疫を失うことで感染可能者に戻る人が存在するため、一定の速度$\\alpha$で減少する。"
   ]
  },
  {
   "cell_type": "code",
   "execution_count": 28,
   "metadata": {},
   "outputs": [],
   "source": [
    "# Define differential equation of SIRi model\n",
    "def SIRi_EQ(v, t, beta, gamma, alpha):\n",
    "    # [v[0], v[1], v[2]] = [S, I, R]\n",
    "    \n",
    "    dS_dt = alpha * v[2] - beta * v[0] * v[1]\n",
    "    dI_dt = beta * v[0] * v[1] - gamma * v[1]\n",
    "    dR_dt = gamma * v[1] - alpha * v[2]\n",
    "    \n",
    "    return [dS_dt, dI_dt, dR_dt]    "
   ]
  },
  {
   "cell_type": "code",
   "execution_count": 39,
   "metadata": {},
   "outputs": [],
   "source": [
    "# Total population, N.\n",
    "N = 1000\n",
    "# Initial number of infected and recovered individuals.\n",
    "I_0 = 1\n",
    "R_0 = 0\n",
    "# Everyone else, S0, is susceptible to infection initially.\n",
    "S_0 = N - I_0 - R_0\n",
    "\n",
    "# Contact rate, beta, and mean recovery rate, gamma, (in 1/days).\n",
    "m = 10 # 1日1人あたりのに接触平均数\n",
    "p = 0.02 # 接触毎に感染が生じる1日あたりの確率\n",
    "beta_const = (m*p)/N\n",
    "gamma_const = 1/10\n",
    "alpha_const = 1/200 # 200日で免疫を失うとする。こういう設定で良いのか不明。\n",
    "\n",
    "# A grid of time points (in days)\n",
    "times = np.linspace(0, 1000,1000)"
   ]
  },
  {
   "cell_type": "code",
   "execution_count": 40,
   "metadata": {},
   "outputs": [
    {
     "data": {
      "image/png": "[encoded data removed]",
      "text/plain": [
       "<Figure size 432x288 with 1 Axes>"
      ]
     },
     "metadata": {
      "needs_background": "light"
     },
     "output_type": "display_data"
    },
    {
     "name": "stdout",
     "output_type": "stream",
     "text": [
      "Final S=497.0726014140221\n",
      "Final I=24.183870148977512\n",
      "Final R=478.74352843700177\n"
     ]
    }
   ],
   "source": [
    "# numerical integration\n",
    "ini_state = [S_0,I_0,R_0] \n",
    "\n",
    "# Numerical Solution using scipy.integrate\n",
    "# Solver SIR model\n",
    "result = odeint(SIRi_EQ, ini_state, times, \n",
    "                args=(beta_const, gamma_const, alpha_const))\n",
    "\n",
    "# plot\n",
    "plt.figure()\n",
    "plt.plot(times,result)\n",
    "plt.legend(['Susceptible','Infectious', 'Removed'])\n",
    "plt.grid()\n",
    "plt.show()\n",
    "\n",
    "print(f\"Final S={result[-1][0]}\")\n",
    "print(f\"Final I={result[-1][1]}\")\n",
    "print(f\"Final R={result[-1][2]}\")"
   ]
  },
  {
   "cell_type": "markdown",
   "metadata": {},
   "source": [
    "#### **考察**\n",
    "\n",
    "このグラフから言えることは、\n",
    "\n",
    "- 感染者人数のピークは総人口の18%程度である。\n",
    "- 免疫獲得者は一定時間の経過後に免疫を失うため、収束するまでに長い年月を要する。\n",
    "- 収束時は、およそ免疫獲得者と感染可能者は同等の人数となり、そのごく僅かな差分が感染者数となる。"
   ]
  },
  {
   "cell_type": "markdown",
   "metadata": {
    "collapsed": "true"
   },
   "source": [
    "## SIR Model + Birth + Death"
   ]
  },
  {
   "cell_type": "markdown",
   "metadata": {},
   "source": [
    "集団への新規加入（新しく生まれた子供は全て未感染者$S$）と死亡がある場合のモデル"
   ]
  },
  {
   "cell_type": "markdown",
   "metadata": {},
   "source": [
    "#### **パラメータ**\n",
    "\n",
    "- $b$: 出生率\n",
    "- $d$: 死亡率（S and R）\n",
    "- $D$: 死亡率（感染者）$D>d$\n",
    "\n",
    "\n",
    "#### **数理モデル**\n",
    "\n",
    "$$\n",
    "\\begin{array}{l}\n",
    "    \\frac{d S}{d t}= b(S+I+R) -\\beta SI -dS \\\\ \n",
    "    \\frac{d I}{d t}= \\beta SI -\\gamma I - DI\\\\ \n",
    "    \\frac{d R}{d t}= \\gamma I - d R\n",
    "\\end{array}\n",
    "$$\n",
    "\n",
    "\n",
    "$$\n",
    "\\begin{array}{ll}\n",
    "    S: \\text { 感染可能者 (Susceptible) } \\\\ \n",
    "    I: \\text { 感染者 (Infectious) } \\\\ \n",
    "    R: \\text { 感染後死亡者、もしくは免疫を獲得した者 (Removed, Recovered) } \\\\ \n",
    "    \\beta: \\text { 接触あたりの感染率 (The infectious rate) [1/day]} \\\\ \n",
    "    \\gamma: \\text { 回復率、除去率、隔離率 (The Recovery rate) [1/day]} \\\\\n",
    "    b: \\text { 出生率 } \\\\\n",
    "    d: \\text { 死亡率（S and R）} \\\\\n",
    "    D: \\text { 死亡率（感染者）} \\\\\n",
    "\\end{array}\n",
    "$$\n"
   ]
  },
  {
   "cell_type": "markdown",
   "metadata": {},
   "source": [
    "**第1式の微分方程式**\n",
    "\n",
    "$S,I,R$の状態に問わず、一定の速度$b$で出生数分の未感染者が増加する。\n",
    "\n",
    "**第2式の微分方程式**\n",
    "\n",
    "一定の速度$D$で死亡者が出る。また、出生数は$I$の人数に関与しないため、式に含めてはいけない。\n",
    "\n",
    "**第3式の微分方程式**\n",
    "\n",
    "一定の速度$d$で死亡者が出る。また、出生数は$R$の人数に関与しないため、式に含めてはいけない。"
   ]
  },
  {
   "cell_type": "code",
   "execution_count": 41,
   "metadata": {},
   "outputs": [],
   "source": [
    "# Define differential equation of SIRbd model\n",
    "def SIRbd_EQ(v, t, beta, gamma, b, d, D):\n",
    "    # [v[0], v[1], v[2]] = [S, I, R]\n",
    "    \n",
    "    dS_dt = b*(v[0]+v[1]+v[2]) - beta*v[0]*v[1] - d*v[0]\n",
    "    dI_dt = beta*v[0]*v[1] - gamma*v[1] - D*v[1]\n",
    "    dR_dt = gamma*v[1] - d*v[2]\n",
    "    \n",
    "    return [dS_dt, dI_dt, dR_dt]    "
   ]
  },
  {
   "cell_type": "code",
   "execution_count": 46,
   "metadata": {},
   "outputs": [],
   "source": [
    "# Total population, N.\n",
    "N = 1000\n",
    "# Initial number of infected and recovered individuals.\n",
    "I_0 = 1\n",
    "R_0 = 0\n",
    "# Everyone else, S0, is susceptible to infection initially.\n",
    "S_0 = N - I_0 - R_0\n",
    "\n",
    "# Contact rate, beta, and mean recovery rate, gamma, (in 1/days).\n",
    "m = 10 # 1日1人あたりのに接触平均数\n",
    "p = 0.02 # 接触毎に感染が生じる1日あたりの確率\n",
    "beta_const = (m*p)/N\n",
    "gamma_const = 1/10\n",
    "b_const = 0.00002\n",
    "d_const = 0.00003\n",
    "D_const = 0.00003 + 0.000015\n",
    "\n",
    "# A grid of time points (in days)\n",
    "times = np.linspace(0, 365, 365)"
   ]
  },
  {
   "cell_type": "code",
   "execution_count": 47,
   "metadata": {},
   "outputs": [
    {
     "data": {
      "image/png": "[encoded data removed]",
      "text/plain": [
       "<Figure size 432x288 with 1 Axes>"
      ]
     },
     "metadata": {
      "needs_background": "light"
     },
     "output_type": "display_data"
    },
    {
     "name": "stdout",
     "output_type": "stream",
     "text": [
      "Final S=206.92732185699205\n",
      "Final I=1.0045454040381708e-05\n",
      "Final R=789.3102318430247\n"
     ]
    }
   ],
   "source": [
    "# numerical integration\n",
    "ini_state = [S_0,I_0,R_0] \n",
    "\n",
    "# Numerical Solution using scipy.integrate\n",
    "# Solver SIRbd model\n",
    "result = odeint(SIRbd_EQ, ini_state, times, \n",
    "                args=(beta_const, gamma_const, b_const, d_const, D_const))\n",
    "\n",
    "# plot\n",
    "plt.figure()\n",
    "plt.plot(times,result)\n",
    "plt.legend(['Susceptible','Infectious', 'Removed'])\n",
    "plt.grid()\n",
    "plt.show()\n",
    "\n",
    "print(f\"Final S={result[-1][0]}\")\n",
    "print(f\"Final I={result[-1][1]}\")\n",
    "print(f\"Final R={result[-1][2]}\")"
   ]
  },
  {
   "cell_type": "markdown",
   "metadata": {
    "collapsed": "true"
   },
   "source": [
    "## SIRD Model"
   ]
  },
  {
   "cell_type": "markdown",
   "metadata": {},
   "source": [
    "SIRD Modelは、回復（具体的には、病気を生き延びて免疫を得た個体を意味する）と「死亡」を区別する。"
   ]
  },
  {
   "cell_type": "markdown",
   "metadata": {},
   "source": [
    "#### **パラメータ**\n",
    "\n",
    "- $\\mu$: 死亡率\n",
    "\n",
    "#### **数理モデル**\n",
    "\n",
    "$$\n",
    "\\begin{array}{l}\n",
    "    \\frac{d S}{d t}= - \\beta SI \\\\ \n",
    "    \\frac{d I}{d t}= \\beta SI -\\gamma I - \\mu I \\\\ \n",
    "    \\frac{d R}{d t}= \\gamma I \\\\\n",
    "    \\frac{d D}{d t}= \\mu I\n",
    "\\end{array}\n",
    "$$\n",
    "\n",
    "\n",
    "$$\n",
    "\\begin{array}{ll}\n",
    "    S: \\text { 感染可能者 (Susceptible) } \\\\ \n",
    "    I: \\text { 感染者 (Infectious) } \\\\ \n",
    "    R: \\text { 免疫を獲得した者 (Removed, Recovered) } \\\\ \n",
    "    D: \\text { 死亡者 (Deceased) } \\\\\n",
    "    \\beta: \\text { 接触あたりの感染率 (The infectious rate) [1/day]} \\\\ \n",
    "    \\gamma: \\text { 回復率、除去率、隔離率 (The Recovery rate) [1/day]} \\\\\n",
    "    \\mu: \\text { 死亡率 (The Death rate)} \\\\\n",
    "\\end{array}\n",
    "$$"
   ]
  },
  {
   "cell_type": "markdown",
   "metadata": {},
   "source": [
    "**第2式,第4式の微分方程式**\n",
    "\n",
    "一定の速度$\\mu$で死亡者が出る。"
   ]
  },
  {
   "cell_type": "code",
   "execution_count": 51,
   "metadata": {},
   "outputs": [],
   "source": [
    "# Define differential equation of SIRD model\n",
    "def SIRD_EQ(v, t, beta, gamma, mu):\n",
    "    # [v[0], v[1], v[2], v[3]] = [S, I, R, D]\n",
    "    \n",
    "    dS_dt = - beta*v[0]*v[1] \n",
    "    dI_dt = beta*v[0]*v[1] - gamma*v[1] - mu*v[1]\n",
    "    dR_dt = gamma*v[1]\n",
    "    dD_dt = mu*v[1]\n",
    "    \n",
    "    return [dS_dt, dI_dt, dR_dt, dD_dt]"
   ]
  },
  {
   "cell_type": "code",
   "execution_count": 52,
   "metadata": {},
   "outputs": [],
   "source": [
    "# Total population, N.\n",
    "N = 1000\n",
    "# Initial number of infected and recovered individuals.\n",
    "I_0 = 1\n",
    "R_0 = 0\n",
    "D_0 = 0\n",
    "# Everyone else, S0, is susceptible to infection initially.\n",
    "S_0 = N - I_0 - R_0 - D_0\n",
    "\n",
    "# Contact rate, beta, and mean recovery rate, gamma, (in 1/days).\n",
    "m = 10 # 1日1人あたりのに接触平均数\n",
    "p = 0.02 # 接触毎に感染が生じる1日あたりの確率\n",
    "beta_const = (m*p)/N\n",
    "gamma_const = 1/10\n",
    "mu_const = 0.005\n",
    "\n",
    "# A grid of time points (in days)\n",
    "times = np.linspace(0, 365, 365)"
   ]
  },
  {
   "cell_type": "code",
   "execution_count": 53,
   "metadata": {},
   "outputs": [
    {
     "data": {
      "image/png": "[encoded data removed]",
      "text/plain": [
       "<Figure size 432x288 with 1 Axes>"
      ]
     },
     "metadata": {
      "needs_background": "light"
     },
     "output_type": "display_data"
    },
    {
     "name": "stdout",
     "output_type": "stream",
     "text": [
      "Final S=230.82487703443553\n",
      "Final I=1.1104813251859812e-05\n",
      "Final R=732.5477255816678\n"
     ]
    }
   ],
   "source": [
    "# numerical integration\n",
    "ini_state = [S_0,I_0,R_0,D_0] \n",
    "\n",
    "# Numerical Solution using scipy.integrate\n",
    "# Solver SIRbd model\n",
    "result = odeint(SIRD_EQ, ini_state, times, \n",
    "                args=(beta_const, gamma_const,mu_const))\n",
    "\n",
    "# plot\n",
    "plt.figure()\n",
    "plt.plot(times,result)\n",
    "plt.legend(['Susceptible','Infectious', 'Removed', 'Deceased'])\n",
    "plt.grid()\n",
    "plt.show()\n",
    "\n",
    "print(f\"Final S={result[-1][0]}\")\n",
    "print(f\"Final I={result[-1][1]}\")\n",
    "print(f\"Final R={result[-1][2]}\")\n",
    "print(f\"Final D={result[-1][3]}\")"
   ]
  },
  {
   "cell_type": "markdown",
   "metadata": {
    "collapsed": "true"
   },
   "source": [
    "## SEIS Model"
   ]
  },
  {
   "cell_type": "markdown",
   "metadata": {},
   "source": [
    "最後に免疫が獲得できないことを除けば、SEIRモデルと同様である。感染は免疫を残さないので、回復した個体は再び感受性のある状態に戻り、S区画に後退する。"
   ]
  },
  {
   "cell_type": "markdown",
   "metadata": {},
   "source": [
    "#### **数理モデル**\n",
    "\n",
    "$$\n",
    "\\begin{array}{l}\n",
    "    \\frac{d S}{d t}= -\\beta SI + \\gamma I \\\\ \n",
    "    \\frac{d E}{d t}= \\beta SI - \\varepsilon E \\\\ \n",
    "    \\frac{d I}{d t}= \\varepsilon E - \\gamma I \\\\ \n",
    "\\end{array}\n",
    "$$\n",
    "\n",
    "\n",
    "$$\n",
    "\\begin{array}{ll}\n",
    "    S: \\text { 感染可能者 (Susceptible) } \\\\ \n",
    "    E: \\text { 潜伏期間中の感染者 (Exposed) } \\\\ \n",
    "    I: \\text { 感染者 (Infectious) } \\\\ \n",
    "    \\beta: \\text { 接触あたりの感染率 (The infectious rate) [1/day]} \\\\ \n",
    "    \\varepsilon: \\text { 発症率（潜伏期間はこの逆数） [1/day]} \\\\\n",
    "    \\gamma: \\text { 回復率、除去率、隔離率 (The Recovery rate) [1/day]} \\\\\n",
    "\\end{array}\n",
    "$$"
   ]
  },
  {
   "cell_type": "code",
   "execution_count": 57,
   "metadata": {},
   "outputs": [],
   "source": [
    "# Define differential equation of SEIR model\n",
    "def SEIS_EQ(v, t, beta, epsilon, gamma):\n",
    "    # [v[0], v[1], v[2], v[3]] = [S, E, I]\n",
    "    \n",
    "    dS_dt = -beta*v[0]*v[2] + gamma*v[2]\n",
    "    dE_dt = beta*v[0]*v[2] - epsilon*v[1]\n",
    "    dI_dt = epsilon*v[1] - gamma*v[2]\n",
    "    \n",
    "    return [dS_dt, dE_dt, dI_dt]    "
   ]
  },
  {
   "cell_type": "code",
   "execution_count": 58,
   "metadata": {},
   "outputs": [],
   "source": [
    "# Total population, N.\n",
    "N = 1000\n",
    "# Initial number of infected and recovered individuals.\n",
    "I_0 = 1\n",
    "E_0 = 0\n",
    "# Everyone else, S0, is susceptible to infection initially.\n",
    "S_0 = N - E_0 - I_0\n",
    "\n",
    "# Contact rate, beta, and mean recovery rate, gamma, (in 1/days).\n",
    "m = 10 # 1日1人あたりのに接触平均数\n",
    "p = 0.02 # 接触毎に感染が生じる1日あたりの確率\n",
    "beta_const = (m*p)/N\n",
    "gamma_const = 1/10\n",
    "epsilon_const = 1/5 # 潜伏期間を5日と仮定\n",
    "\n",
    "# A grid of time points (in days)\n",
    "times = np.linspace(0, 365, 365)"
   ]
  },
  {
   "cell_type": "code",
   "execution_count": 60,
   "metadata": {},
   "outputs": [
    {
     "data": {
      "image/png": "[encoded data removed]",
      "text/plain": [
       "<Figure size 432x288 with 1 Axes>"
      ]
     },
     "metadata": {
      "needs_background": "light"
     },
     "output_type": "display_data"
    },
    {
     "name": "stdout",
     "output_type": "stream",
     "text": [
      "Final S=500.0000196674305\n",
      "Final E=166.66666412775157\n",
      "Final I=333.33331620481795\n"
     ]
    }
   ],
   "source": [
    "# numerical integration\n",
    "ini_state = [S_0,E_0,I_0] \n",
    "\n",
    "# Numerical Solution using scipy.integrate\n",
    "# Solver SIRS model\n",
    "result = odeint(SEIS_EQ, ini_state, times, args=(beta_const, epsilon_const, gamma_const))\n",
    "\n",
    "# plot\n",
    "plt.figure()\n",
    "plt.plot(times,result)\n",
    "plt.legend(['Susceptible','Exposed','Infectious', 'Removed'])\n",
    "plt.show()\n",
    "\n",
    "print(f\"Final S={result[-1][0]}\")\n",
    "print(f\"Final E={result[-1][1]}\")\n",
    "print(f\"Final I={result[-1][2]}\")"
   ]
  },
  {
   "cell_type": "markdown",
   "metadata": {
    "collapsed": "true"
   },
   "source": [
    "## SIRF Model"
   ]
  },
  {
   "cell_type": "markdown",
   "metadata": {},
   "source": [
    "COVID-19の場合は感染の確定診断が難しく、特に初期においては確定診断前に亡くなる症例が多数報告された。こうした事例を反映させたモデルをSIRF Modelとする。$S^{*}$は確定診断がついた感染者、$\\alpha_{1}$は$S^{*}$のうち確定診断の時点で亡くなっていた感染者の割合を示す。\n",
    "\n",
    "$\\alpha_{1}=0$ のとき、SIRF modelはSIRD modelに一致する。\n",
    "\n",
    "Introduced in [COVID-19 data with SIR model](https://www.kaggle.com/lisphilar/covid-19-data-with-sir-model#SIR-to-SIR-F) and [SIR-F model](https://qiita.com/Lisphilar/items/99c1e7673bc13d77dfcc)"
   ]
  },
  {
   "cell_type": "markdown",
   "metadata": {},
   "source": [
    "#### **パラメータ**\n",
    "\n",
    "- $\\alpha_{1}$: Direct fatality probability of $S^{*}$ (non-dimentional)\n",
    "- $\\alpha_{2}$: Mortality rate of Infected cases [1/min]\n",
    "\n",
    "#### **数理モデル**\n",
    "\n",
    "$$\n",
    "\\begin{array}{l}\n",
    "    \\frac{d S}{d t}= - \\beta SI \\\\ \n",
    "    \\frac{d I}{d t}= (1-\\alpha_{1})\\beta SI - (\\gamma+\\alpha_{2}) I \\\\ \n",
    "    \\frac{d R}{d t}= \\gamma I \\\\\n",
    "    \\frac{d F}{d t}= \\alpha_{1} \\beta SI + \\alpha_{2} I\n",
    "\\end{array}\n",
    "$$\n",
    "\n",
    "$$\n",
    "\\begin{array}{ll}\n",
    "    S: \\text { 感染可能者 (Susceptible) } \\\\ \n",
    "    I: \\text { 感染者 (Infectious) } \\\\ \n",
    "    R: \\text { 免疫を獲得した者 (Removed, Recovered) } \\\\ \n",
    "    F: \\text { 死亡者 (Fatal) } \\\\\n",
    "    \\beta: \\text { 接触あたりの感染率 (The infectious rate) [1/day]} \\\\ \n",
    "    \\gamma: \\text { 回復率、除去率、隔離率 (The Recovery rate) [1/day]} \\\\\n",
    "    \\alpha_{1}: \\text { The direct fatality probability} \\\\\n",
    "    \\alpha_{2}: \\text { The mortality rate of Infected cases} \\\\\n",
    "\\end{array}\n",
    "$$"
   ]
  },
  {
   "cell_type": "markdown",
   "metadata": {},
   "source": [
    "**第2式,第4式の微分方程式**\n",
    "\n",
    "確定診断の時点で亡くなっていた感染者が確率$\\alpha_1$で発生し、死亡する前に確定診断が出る感染者は$(1-\\alpha_1)$で感染者区間に推移する。  \n",
    "また、感染者は死亡率$\\alpha_2$で死亡してしまう。\n"
   ]
  },
  {
   "cell_type": "code",
   "execution_count": 63,
   "metadata": {},
   "outputs": [],
   "source": [
    "# Define differential equation of SIRF model\n",
    "def SIRF_EQ(v, t, beta, gamma, alpha_1, alpha_2):\n",
    "    # [v[0], v[1], v[2], v[3]] = [S, I, R, F]\n",
    "    \n",
    "    dS_dt = - beta*v[0]*v[1] \n",
    "    dI_dt = (1-alpha_1)*beta*v[0]*v[1] - (gamma+alpha_2)*v[1]\n",
    "    dR_dt = gamma*v[1]\n",
    "    dF_dt = alpha_1*beta*v[0]*v[1] + alpha_2*v[1]\n",
    "    \n",
    "    return [dS_dt, dI_dt, dR_dt, dF_dt]"
   ]
  },
  {
   "cell_type": "code",
   "execution_count": 68,
   "metadata": {},
   "outputs": [],
   "source": [
    "# Total population, N.\n",
    "N = 1000\n",
    "# Initial number of infected and recovered individuals.\n",
    "I_0 = 1\n",
    "R_0 = 0\n",
    "F_0 = 0\n",
    "# Everyone else, S0, is susceptible to infection initially.\n",
    "S_0 = N - I_0 - R_0 - F_0\n",
    "\n",
    "# Contact rate, beta, and mean recovery rate, gamma, (in 1/days).\n",
    "m = 10 # 1日1人あたりのに接触平均数\n",
    "p = 0.02 # 接触毎に感染が生じる1日あたりの確率\n",
    "beta_const = (m*p)/N\n",
    "gamma_const = 1/10\n",
    "alpha_1_const = 0.1\n",
    "alpha_2_const = 0.00003 + 0.000015\n",
    "\n",
    "# A grid of time points (in days)\n",
    "times = np.linspace(0, 365, 365)"
   ]
  },
  {
   "cell_type": "code",
   "execution_count": 69,
   "metadata": {},
   "outputs": [
    {
     "data": {
      "image/png": "[encoded data removed]",
      "text/plain": [
       "<Figure size 432x288 with 1 Axes>"
      ]
     },
     "metadata": {
      "needs_background": "light"
     },
     "output_type": "display_data"
    },
    {
     "name": "stdout",
     "output_type": "stream",
     "text": [
      "Final S=267.25710463330824\n",
      "Final I=0.00011169322107396514\n",
      "Final R=659.271821816984\n",
      "Final F=73.47096185648675\n"
     ]
    }
   ],
   "source": [
    "# numerical integration\n",
    "ini_state = [S_0,I_0,R_0,F_0] \n",
    "\n",
    "# Numerical Solution using scipy.integrate\n",
    "# Solver SIRF model\n",
    "result = odeint(SIRF_EQ, ini_state, times, \n",
    "                args=(beta_const, gamma_const, alpha_1_const, alpha_2_const))\n",
    "\n",
    "# plot\n",
    "plt.figure()\n",
    "plt.plot(times,result)\n",
    "plt.legend(['Susceptible','Infectious', 'Removed', 'Fatal'])\n",
    "plt.grid()\n",
    "plt.show()\n",
    "\n",
    "print(f\"Final S={result[-1][0]}\")\n",
    "print(f\"Final I={result[-1][1]}\")\n",
    "print(f\"Final R={result[-1][2]}\")\n",
    "print(f\"Final F={result[-1][3]}\")"
   ]
  },
  {
   "cell_type": "markdown",
   "metadata": {
    "collapsed": "true"
   },
   "source": [
    "## SIQR Model"
   ]
  },
  {
   "cell_type": "markdown",
   "metadata": {},
   "source": [
    "SIQRモデルでは、感染者と隔離者の区画を定義する。大規模な感染者数の最大値は検疫率に強く依存し、パンデミックの抑制には隔離措置がロックダウン措置よりも有効である。\n",
    "\n",
    "- [Analysis of the outbreak of COVID-19 in Japan by SIQR model](https://pubmed.ncbi.nlm.nih.gov/32935071/)\n",
    "- [SIQR モデルの表示](https://qiita.com/ekzemplaro/items/d4b079da3f172f6535b9)"
   ]
  },
  {
   "cell_type": "markdown",
   "metadata": {},
   "source": [
    "#### 図が間違えている... gamma_q*Q\n",
    "\n",
    "<img src=\"https://www.ncbi.nlm.nih.gov/pmc/articles/instance/7516072/bin/gr1.jpg\" width=50%>"
   ]
  },
  {
   "cell_type": "markdown",
   "metadata": {},
   "source": [
    "#### **パラメータ**\n",
    "\n",
    "- $q^{\\prime}$: 感染直後の新規患者の一人当たりの検疫率 \n",
    "- $q$: 症状の有無に関わらず、一人当たりの割合$q$で隔離され、集団に対して非感染となる。\n",
    "\n",
    "症状があるかないかにかかわらず、一人当たりの割合qで隔離され、集団に対して非感染\n",
    "\n",
    "#### **数理モデル**\n",
    "\n",
    "$$\n",
    "\\begin{array}{l}\n",
    "    \\frac{d S}{d t}= - \\beta SI \\\\ \n",
    "    \\frac{d I}{d t}= (1-q^{\\prime})\\beta SI - qI - \\gamma I \\\\ \n",
    "    \\frac{d Q}{d t}= q^{\\prime}\\beta SI + qI - \\gamma^{\\prime}Q \\\\\n",
    "    \\frac{d R}{d t}= \\gamma I + \\gamma^{\\prime}Q \n",
    "\\end{array}\n",
    "$$\n",
    "\n",
    "$$\n",
    "\\begin{array}{ll}\n",
    "    S: \\text { 感染可能者 (Susceptible) } \\\\ \n",
    "    I: \\text { 感染者 (Infectious) } \\\\ \n",
    "    Q: \\text { 隔離者 (Quarantined) } \\\\\n",
    "    R: \\text { 免疫を獲得した者 (Removed, Recovered) } \\\\ \n",
    "    \\beta: \\text { 接触あたりの感染率 (The infectious rate) [1/day]} \\\\ \n",
    "    \\gamma: \\text { 回復率、除去率 (The Recovery rate) [1/day]} \\\\\n",
    "    \\gamma^{\\prime}: \\text { 隔離からの回復率 [1/day]} \\\\\n",
    "    q^{\\prime}: \\text { 検疫率 } \\\\\n",
    "    q: \\text { 隔離率 } \\\\\n",
    "\\end{array}\n",
    "$$"
   ]
  },
  {
   "cell_type": "markdown",
   "metadata": {},
   "source": [
    "**第2式の微分方程式**\n",
    "\n",
    "検疫を行なっていない感染者が加わり、感染後に隔離される感染者が減少する。\n",
    "\n",
    "**第3式の微分方程式**\n",
    "\n",
    "検疫により感染が発覚した、発症・未発症に関わらず隔離される感染者と、感染者の中から新たに隔離される感染者が加わる。また、隔離された状態で回復した者が、この$Q$区間を抜ける。\n",
    "\n",
    "**第4式の微分方程式**\n",
    "\n",
    "隔離された感染者と隔離されていない感染者からの回復者が、この$R$区間に移る。"
   ]
  },
  {
   "cell_type": "code",
   "execution_count": 2,
   "metadata": {},
   "outputs": [],
   "source": [
    "# Define differential equation of SIQR model\n",
    "def SIQR_EQ(v, t, beta, gamma, gamma_q, q_test, q):\n",
    "    # [v[0], v[1], v[2], v[3]] = [S, I, Q, R]\n",
    "    \n",
    "    dS_dt = - beta*v[0]*v[1] \n",
    "    dI_dt = (1-q_test)*beta*v[0]*v[1] - q*v[1] - gamma*v[1]\n",
    "    dQ_dt = q_test*beta*v[0]*v[1] + q*v[1] - gamma_q*v[2]\n",
    "    dR_dt = gamma*v[1] + gamma_q*v[2]\n",
    "    \n",
    "    \n",
    "    return [dS_dt, dI_dt, dQ_dt, dR_dt]"
   ]
  },
  {
   "cell_type": "code",
   "execution_count": 12,
   "metadata": {},
   "outputs": [],
   "source": [
    "# Total population, N.\n",
    "N = 1000\n",
    "# Initial number of infected and recovered individuals.\n",
    "I_0 = 1\n",
    "R_0 = 0\n",
    "Q_0 = 0\n",
    "# Everyone else, S0, is susceptible to infection initially.\n",
    "S_0 = N - I_0 - Q_0 - R_0 \n",
    "\n",
    "# Contact rate, beta, and mean recovery rate, gamma, (in 1/days).\n",
    "m = 10 # 1日1人あたりのに接触平均数\n",
    "p = 0.02 # 接触毎に感染が生じる1日あたりの確率\n",
    "beta_const = (m*p)/N\n",
    "gamma_const = 1/10\n",
    "gamma_q_const = 1/10\n",
    "\n",
    "# COVID-19などの場合、潜伏期間が長いため、q'をゼロに設定することができます。\n",
    "q_test = 0  \n",
    "q = 0.009\n",
    "\n",
    "# A grid of time points (in days)\n",
    "times = np.linspace(0, 365, 365)"
   ]
  },
  {
   "cell_type": "code",
   "execution_count": 11,
   "metadata": {},
   "outputs": [
    {
     "data": {
      "image/png": "[encoded data removed]",
      "text/plain": [
       "<Figure size 432x288 with 1 Axes>"
      ]
     },
     "metadata": {
      "needs_background": "light"
     },
     "output_type": "display_data"
    },
    {
     "name": "stdout",
     "output_type": "stream",
     "text": [
      "Final S=254.29201612661805\n",
      "Final I=1.4027999026000905e-05\n",
      "Final Q=3.016111640061393e-06\n",
      "Final R=745.7079668292711\n"
     ]
    }
   ],
   "source": [
    "# numerical integration\n",
    "ini_state = [S_0,I_0,Q_0,R_0] \n",
    "\n",
    "# Numerical Solution using scipy.integrate\n",
    "# Solver SIQR model\n",
    "result = odeint(SIQR_EQ, ini_state, times, \n",
    "                args=(beta_const, gamma_const, gamma_q_const, q_test, q))\n",
    "\n",
    "# plot\n",
    "plt.figure()\n",
    "plt.plot(times,result)\n",
    "plt.legend(['Susceptible','Infectious', 'Quarantined', 'Removed'])\n",
    "plt.grid()\n",
    "plt.show()\n",
    "\n",
    "print(f\"Final S={result[-1][0]}\")\n",
    "print(f\"Final I={result[-1][1]}\")\n",
    "print(f\"Final Q={result[-1][2]}\")\n",
    "print(f\"Final R={result[-1][3]}\")"
   ]
  },
  {
   "cell_type": "markdown",
   "metadata": {
    "collapsed": "true"
   },
   "source": [
    "## SEIQJR Model"
   ]
  },
  {
   "cell_type": "markdown",
   "metadata": {},
   "source": [
    "SEIQJRモデルでは、感染者と隔離者の区画に加え、ワクチン摂取による抗体保有への推移も定義する。"
   ]
  },
  {
   "cell_type": "markdown",
   "metadata": {},
   "source": [
    "#### **パラメータ**\n",
    "\n",
    "- $\\gamma$: 検疫隔離率\n",
    "- $\\rho$: ワクチン接種率\n",
    "- $\\kappa$: 未発症からの発症率\n",
    "- $\\sigma$: 回復率\n",
    "- $\\mu$: 死亡率\n",
    "- $\\lambda$: 出生率\n",
    "\n",
    "$\\rho$と$\\gamma$は、隔離比重$\\alpha(t)$によりコントロールされる。\n",
    "検疫とワクチン投与を行う機関が同一であるため、同時に同比重の作業は不可能である。この限られた医療資源を考慮する。"
   ]
  },
  {
   "cell_type": "markdown",
   "metadata": {},
   "source": [
    "#### **数理モデル**\n",
    "\n",
    "$$\n",
    "\\begin{array}{l}\n",
    "    \\frac{d S}{d t}= b(S+E+I+Q+J+R) - \\beta (I+\\varepsilon_{E}E+\\varepsilon_{Q}Q+\\varepsilon_{J}J)S -(\\rho+\\mu)S \\\\\n",
    "    \\frac{d E}{d t}= \\beta (I+\\varepsilon_{E}E+\\varepsilon_{Q}Q+\\varepsilon_{J}J)S - (\\gamma_{1}+\\kappa_{1}+\\sigma_{1}+\\mu)E \\\\\n",
    "    \\frac{d I}{d t}= \\kappa_{1}E - (\\gamma_2+\\sigma_2+d_1+\\mu)I \\\\\n",
    "    \\frac{d Q}{d t}= \\gamma_1 E - (\\kappa_2+\\sigma_3+\\mu)Q \\\\\n",
    "    \\frac{d J}{d t}= \\gamma_2 I + \\kappa_2 Q - (\\sigma_4+d_2+\\mu)J \\\\\n",
    "    \\frac{d R}{d t}= \\rho S + \\sigma_1 E + \\sigma_2 I + \\sigma_3 Q + \\sigma_4 J - \\mu R \n",
    "\\end{array}\n",
    "$$\n",
    "\n",
    "$$\n",
    "\\begin{array}{ll}\n",
    "    S: \\text { 感染可能者 (Susceptible) } \\\\ \n",
    "    E: \\text { 潜伏期間中の感染者 (Exposed) } \\\\ \n",
    "    I: \\text { 感染者 (Infectious) } \\\\ \n",
    "    Q: \\text { 隔離未感染者 (Quarantined-Infectious) } \\\\\n",
    "    J: \\text { 隔離感染者 (Quarantined-non-Infectious) } \\\\\n",
    "    R: \\text { 免疫を獲得した者 (Removed, Recovered) } \\\\ \n",
    "    \\beta: \\text { 接触あたりの感染率 (The infectious rate) [1/day]} \\\\ \n",
    "    \\gamma: \\text{検疫隔離率} \\\\\n",
    "    \\rho: \\text{ワクチン接種率} \\\\\n",
    "    \\kappa: \\text{未発症からの発症率} \\\\\n",
    "    \\sigma: \\text{回復率} \\\\\n",
    "    \\mu: \\text{死亡率} \\\\\n",
    "    d: \\text{病気による死亡率} \\\\\n",
    "    b: \\text{出生率} \\\\\n",
    "    \\varepsilon: \\text{接触率} \\\\\n",
    "\\end{array}\n",
    "$$"
   ]
  },
  {
   "cell_type": "markdown",
   "metadata": {},
   "source": [
    "**第1式の微分方程式**\n",
    "\n",
    "$S$は$I$,$E$,$Q$,$J$との接触により感染する。しかし、$Q$,$J$は隔離されており$S$との接触はないと判断できるため、各パラメータ$\\varepsilon=0$とみなせる。"
   ]
  },
  {
   "cell_type": "code",
   "execution_count": 15,
   "metadata": {},
   "outputs": [],
   "source": [
    "# Define differential equation of SEIQJR model\n",
    "def SEIQJR_EQ(v, t, \n",
    "              beta, \n",
    "              gamma_1,\n",
    "              gamma_2,\n",
    "              rho,\n",
    "              kappa_1,\n",
    "              kappa_2,\n",
    "              sigma_1,\n",
    "              sigma_2,\n",
    "              sigma_3,\n",
    "              sigma_4,\n",
    "              mu,\n",
    "              d_1,\n",
    "              d_2,\n",
    "              b,\n",
    "              epsilon_E,\n",
    "              epsilon_Q,\n",
    "              epsilon_J):\n",
    "\n",
    "    # [v[0], v[1], v[2], v[3], v[4], v[5]] = [S, E, I, Q, J, R]\n",
    "    \n",
    "    dS_dt = b*(v[0]+v[1]+v[2]+v[3]+v[4]+v[5]) - beta*(v[2]+epsilon_E*v[1]+epsilon_Q*v[3]+epsilon_J*v[4])*v[0] - (rho+mu)*v[0]\n",
    "    dE_dt = beta*(v[2]+epsilon_E*v[1]+epsilon_Q*v[3]+epsilon_J*v[4])*v[0] - (gamma_1+kappa_1+sigma_1+mu)*v[1]\n",
    "    dI_dt = kappa_1*v[1] - (gamma_2+sigma_2+d_1+mu)*v[2]\n",
    "    dQ_dt = gamma_1*v[1] - (kappa_2+sigma_3+mu)*v[3]\n",
    "    dJ_dt = gamma_2*v[2] + kappa_2*v[3] - (sigma_4+d_2+mu)*v[4]\n",
    "    dR_dt = rho*v[0] + sigma_1*v[1] + sigma_2*v[2] + sigma_3*v[3] + sigma_4*v[4] - mu*v[5]\n",
    "    \n",
    "    return [dS_dt, dE_dt, dI_dt, dQ_dt, dJ_dt, dR_dt]"
   ]
  },
  {
   "cell_type": "code",
   "execution_count": 52,
   "metadata": {},
   "outputs": [],
   "source": [
    "# Total population, N.\n",
    "N = 1000\n",
    "# Initial number of infected and recovered individuals.\n",
    "I_0 = 1\n",
    "E_0 = 0\n",
    "Q_0 = 0\n",
    "J_0 = 0\n",
    "R_0 = 0\n",
    "# Everyone else, S0, is susceptible to infection initially.\n",
    "S_0 = N - E_0 - I_0 - Q_0 - J_0 - R_0 \n",
    "\n",
    "# Contact rate, beta, and mean recovery rate, gamma, (in 1/days).\n",
    "m = 10 # 1日1人あたりのに接触平均数\n",
    "p = 0.02 # 接触毎に感染が生じる1日あたりの確率\n",
    "beta = (m*p)/N\n",
    "\n",
    "alpha = 0.8\n",
    "gamma_1 = 1/10 * alpha\n",
    "gamma_2 = 3/10 * alpha\n",
    "rho = 0.5 * (1-alpha)\n",
    "\n",
    "kappa_1 = 1/5 # 潜伏期間は5日\n",
    "kappa_2 = 1/3 # 発覚してからの潜伏期間は3日\n",
    "sigma_1 = 1/7 # 回復するまで7日かかる\n",
    "sigma_2 = 1/7\n",
    "sigma_3 = 1/7\n",
    "sigma_4 = 1/7\n",
    "\n",
    "mu = 0.00003\n",
    "d_1 = 0.000015 # 感染すると、死亡率が1.5倍になるように。d_1+d_2 = 1.5*d_1\n",
    "d_2 = 0.000015 # 隔離されても死亡率は変化しないと仮定。\n",
    "b = 0.00004\n",
    "epsilon_E = 0.5 # 潜伏期間中の感染者と接触して、感染する確率は、発症者と接触する際と比べて0.5倍程度??\n",
    "epsilon_Q = 0.000001\n",
    "epsilon_J = 0.000001\n",
    "\n",
    "# A grid of time points (in days)\n",
    "times = np.linspace(0, 365, 365)"
   ]
  },
  {
   "cell_type": "code",
   "execution_count": 53,
   "metadata": {},
   "outputs": [
    {
     "data": {
      "image/png": "[encoded data removed]",
      "text/plain": [
       "<Figure size 432x288 with 1 Axes>"
      ]
     },
     "metadata": {
      "needs_background": "light"
     },
     "output_type": "display_data"
    },
    {
     "name": "stdout",
     "output_type": "stream",
     "text": [
      "Final S=0.40130209002159184\n",
      "Final E=-7.554497064428798e-18\n",
      "Final I=3.745949686187568e-17\n",
      "Final Q=9.480466109781356e-14\n",
      "Final J=-9.489586421831542e-14\n",
      "Final R=1003.255225781819\n"
     ]
    }
   ],
   "source": [
    "# numerical integration\n",
    "ini_state = [S_0,E_0,I_0,Q_0,J_0,R_0] \n",
    "\n",
    "# Numerical Solution using scipy.integrate\n",
    "result = odeint(SEIQJR_EQ, ini_state, times, \n",
    "                args=(\n",
    "                    beta, gamma_1, gamma_2, rho, kappa_1, kappa_2,\n",
    "                    sigma_1,sigma_2,sigma_3,sigma_4,mu,d_1,d_2,b,epsilon_E,epsilon_Q,epsilon_J)\n",
    "               )\n",
    "\n",
    "# plot\n",
    "plt.figure()\n",
    "plt.plot(times,result)\n",
    "plt.legend(['Susceptible','Exposed','Infectious', 'Quarantined-Infectious', 'Quarantined-nonInfectious','Recovered'])\n",
    "plt.grid()\n",
    "plt.show()\n",
    "\n",
    "print(f\"Final S={result[-1][0]}\")\n",
    "print(f\"Final E={result[-1][1]}\")\n",
    "print(f\"Final I={result[-1][2]}\")\n",
    "print(f\"Final Q={result[-1][3]}\")\n",
    "print(f\"Final J={result[-1][4]}\")\n",
    "print(f\"Final R={result[-1][5]}\")"
   ]
  },
  {
   "cell_type": "markdown",
   "metadata": {
    "collapsed": "true"
   },
   "source": [
    "## Reference"
   ]
  },
  {
   "cell_type": "markdown",
   "metadata": {},
   "source": [
    "- [新型コロナウィルス(CoVid-19)とSIRモデルについて](http://www.civil.kumamoto-u.ac.jp/keikaku//////blog/2020/photo/topic394-1.pdf)\n",
    "- [奈良女子大学 伝染病](http://gi.ics.nara-wu.ac.jp/~takasu/lecture/old/archives/H18-global-8.pdf)\n",
    "- [青山学院大学 中田行彦 SIRモデル](http://www.gem.aoyama.ac.jp/users/ynakata/class/2020/DEIII/DEIII8.pdf)\n",
    "- [青山学院大学 中田行彦 SIRSモデル](http://www.gem.aoyama.ac.jp/users/ynakata/class/2020/DEIII/DEIII8.pdf)\n",
    "- [感染症流行を予測する数理モデル SIR｜微分方程式によるシミュレーション](https://club.informatix.co.jp/?p=140)\n",
    "- [感染症の数学予測モデル（SIRモデル）](https://www.rs.kagu.tus.ac.jp/~yokota/sir.html)\n",
    "- [感染症数理モデルとCOVID-19](https://www.covid19-jma-medical-expert-meeting.jp/topic/3925)\n",
    "- [Pythonプログラミング（ステップ６・SIRモデル）](https://wagtail.cds.tohoku.ac.jp/coda/python/p-6-application-sup-ode-sir-model.html): Scipyによる微分方程式の解の算出\n",
    "- [TWITTERにおける\n",
    "情報・関心の伝播モデルの構築](https://www.msi.co.jp/splus/tips/stuAward/2013pdf/muc13_ueda.pdf): SIRモデルを他の目的に使用した例\n",
    "- [MSIRモデル](https://ja.wikipedia.org/wiki/MSIR%E3%83%A2%E3%83%87%E3%83%AB)\n",
    "\n",
    "- [感染病の数学予測モデルの紹介　(SIRモデル）](https://qiita.com/kotai2003/items/3078f4095c3e94e5325c)\n",
    "\n",
    "- [感染症数理モデル；Sequential SEIR model](https://biostat-hokudai.jp/seirmodel/)\n",
    "\n"
   ]
  }
 ],
 "metadata": {
  "kernelspec": {
   "display_name": "Python 3",
   "language": "python",
   "name": "python3"
  },
  "language_info": {
   "codemirror_mode": {
    "name": "ipython",
    "version": 3
   },
   "file_extension": ".py",
   "mimetype": "text/x-python",
   "name": "python",
   "nbconvert_exporter": "python",
   "pygments_lexer": "ipython3",
   "version": "3.6.10"
  }
 },
 "nbformat": 4,
 "nbformat_minor": 4
}
